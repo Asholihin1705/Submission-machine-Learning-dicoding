{
  "cells": [
    {
      "cell_type": "code",
      "execution_count": 1,
      "metadata": {
        "id": "dIyDC5Z8IW1m"
      },
      "outputs": [],
      "source": [
        "#melakukan import library yang dibutuhkan\n",
        "\n",
        "import matplotlib.pyplot as plt\n",
        "import keras\n",
        "import pandas as pd\n",
        "import numpy as np\n",
        "from keras.models import Sequential\n",
        "from keras.layers import Dense\n",
        "from keras.layers import LSTM, SimpleRNN\n",
        "from keras.layers import Dropout\n",
        "from keras.layers import *\n",
        "from math import sqrt\n",
        "import math\n",
        "from sklearn.metrics import r2_score\n",
        "from sklearn.preprocessing import MinMaxScaler\n",
        "from sklearn.metrics import mean_absolute_error\n",
        "\n",
        "#from sklearn.model_selection import train_test_split\n",
        "#from keras.callbacks import EarlyStopping"
      ]
    },
    {
      "cell_type": "code",
      "execution_count": 2,
      "metadata": {
        "colab": {
          "base_uri": "https://localhost:8080/",
          "height": 423
        },
        "id": "NgpWNeSKIreb",
        "outputId": "848d5464-2f2f-4ea0-8cba-1c1bef751ac3"
      },
      "outputs": [
        {
          "output_type": "execute_result",
          "data": {
            "text/plain": [
              "            Date    Open    High     Low   Close    Adj Close    Volume\n",
              "0     2003-09-03   615.0   675.0   605.0   675.0   376.886749  43162500\n",
              "1     2003-09-04   690.0   750.0   675.0   685.0   382.470032  82850000\n",
              "2     2003-09-05   685.0   700.0   680.0   690.0   385.261932  24055000\n",
              "3     2003-09-08   690.0   690.0   665.0   680.0   379.678589  18007500\n",
              "4     2003-09-09   680.0   680.0   660.0   665.0   371.303162  14075000\n",
              "...          ...     ...     ...     ...     ...          ...       ...\n",
              "4719  2022-08-29  4560.0  4600.0  4510.0  4580.0  4580.000000  20184000\n",
              "4720  2022-08-30  4590.0  4630.0  4580.0  4580.0  4580.000000  23733200\n",
              "4721  2022-08-31  4580.0  4620.0  4530.0  4590.0  4590.000000  38272000\n",
              "4722  2022-09-01  4590.0  4610.0  4540.0  4540.0  4540.000000  13106400\n",
              "4723  2022-09-02  4540.0  4600.0  4540.0  4550.0  4550.000000  11307400\n",
              "\n",
              "[4724 rows x 7 columns]"
            ],
            "text/html": [
              "\n",
              "  <div id=\"df-ee2ddc6d-eff0-4483-af4d-8eed8cad6d19\">\n",
              "    <div class=\"colab-df-container\">\n",
              "      <div>\n",
              "<style scoped>\n",
              "    .dataframe tbody tr th:only-of-type {\n",
              "        vertical-align: middle;\n",
              "    }\n",
              "\n",
              "    .dataframe tbody tr th {\n",
              "        vertical-align: top;\n",
              "    }\n",
              "\n",
              "    .dataframe thead th {\n",
              "        text-align: right;\n",
              "    }\n",
              "</style>\n",
              "<table border=\"1\" class=\"dataframe\">\n",
              "  <thead>\n",
              "    <tr style=\"text-align: right;\">\n",
              "      <th></th>\n",
              "      <th>Date</th>\n",
              "      <th>Open</th>\n",
              "      <th>High</th>\n",
              "      <th>Low</th>\n",
              "      <th>Close</th>\n",
              "      <th>Adj Close</th>\n",
              "      <th>Volume</th>\n",
              "    </tr>\n",
              "  </thead>\n",
              "  <tbody>\n",
              "    <tr>\n",
              "      <th>0</th>\n",
              "      <td>2003-09-03</td>\n",
              "      <td>615.0</td>\n",
              "      <td>675.0</td>\n",
              "      <td>605.0</td>\n",
              "      <td>675.0</td>\n",
              "      <td>376.886749</td>\n",
              "      <td>43162500</td>\n",
              "    </tr>\n",
              "    <tr>\n",
              "      <th>1</th>\n",
              "      <td>2003-09-04</td>\n",
              "      <td>690.0</td>\n",
              "      <td>750.0</td>\n",
              "      <td>675.0</td>\n",
              "      <td>685.0</td>\n",
              "      <td>382.470032</td>\n",
              "      <td>82850000</td>\n",
              "    </tr>\n",
              "    <tr>\n",
              "      <th>2</th>\n",
              "      <td>2003-09-05</td>\n",
              "      <td>685.0</td>\n",
              "      <td>700.0</td>\n",
              "      <td>680.0</td>\n",
              "      <td>690.0</td>\n",
              "      <td>385.261932</td>\n",
              "      <td>24055000</td>\n",
              "    </tr>\n",
              "    <tr>\n",
              "      <th>3</th>\n",
              "      <td>2003-09-08</td>\n",
              "      <td>690.0</td>\n",
              "      <td>690.0</td>\n",
              "      <td>665.0</td>\n",
              "      <td>680.0</td>\n",
              "      <td>379.678589</td>\n",
              "      <td>18007500</td>\n",
              "    </tr>\n",
              "    <tr>\n",
              "      <th>4</th>\n",
              "      <td>2003-09-09</td>\n",
              "      <td>680.0</td>\n",
              "      <td>680.0</td>\n",
              "      <td>660.0</td>\n",
              "      <td>665.0</td>\n",
              "      <td>371.303162</td>\n",
              "      <td>14075000</td>\n",
              "    </tr>\n",
              "    <tr>\n",
              "      <th>...</th>\n",
              "      <td>...</td>\n",
              "      <td>...</td>\n",
              "      <td>...</td>\n",
              "      <td>...</td>\n",
              "      <td>...</td>\n",
              "      <td>...</td>\n",
              "      <td>...</td>\n",
              "    </tr>\n",
              "    <tr>\n",
              "      <th>4719</th>\n",
              "      <td>2022-08-29</td>\n",
              "      <td>4560.0</td>\n",
              "      <td>4600.0</td>\n",
              "      <td>4510.0</td>\n",
              "      <td>4580.0</td>\n",
              "      <td>4580.000000</td>\n",
              "      <td>20184000</td>\n",
              "    </tr>\n",
              "    <tr>\n",
              "      <th>4720</th>\n",
              "      <td>2022-08-30</td>\n",
              "      <td>4590.0</td>\n",
              "      <td>4630.0</td>\n",
              "      <td>4580.0</td>\n",
              "      <td>4580.0</td>\n",
              "      <td>4580.000000</td>\n",
              "      <td>23733200</td>\n",
              "    </tr>\n",
              "    <tr>\n",
              "      <th>4721</th>\n",
              "      <td>2022-08-31</td>\n",
              "      <td>4580.0</td>\n",
              "      <td>4620.0</td>\n",
              "      <td>4530.0</td>\n",
              "      <td>4590.0</td>\n",
              "      <td>4590.000000</td>\n",
              "      <td>38272000</td>\n",
              "    </tr>\n",
              "    <tr>\n",
              "      <th>4722</th>\n",
              "      <td>2022-09-01</td>\n",
              "      <td>4590.0</td>\n",
              "      <td>4610.0</td>\n",
              "      <td>4540.0</td>\n",
              "      <td>4540.0</td>\n",
              "      <td>4540.000000</td>\n",
              "      <td>13106400</td>\n",
              "    </tr>\n",
              "    <tr>\n",
              "      <th>4723</th>\n",
              "      <td>2022-09-02</td>\n",
              "      <td>4540.0</td>\n",
              "      <td>4600.0</td>\n",
              "      <td>4540.0</td>\n",
              "      <td>4550.0</td>\n",
              "      <td>4550.000000</td>\n",
              "      <td>11307400</td>\n",
              "    </tr>\n",
              "  </tbody>\n",
              "</table>\n",
              "<p>4724 rows × 7 columns</p>\n",
              "</div>\n",
              "      <button class=\"colab-df-convert\" onclick=\"convertToInteractive('df-ee2ddc6d-eff0-4483-af4d-8eed8cad6d19')\"\n",
              "              title=\"Convert this dataframe to an interactive table.\"\n",
              "              style=\"display:none;\">\n",
              "        \n",
              "  <svg xmlns=\"http://www.w3.org/2000/svg\" height=\"24px\"viewBox=\"0 0 24 24\"\n",
              "       width=\"24px\">\n",
              "    <path d=\"M0 0h24v24H0V0z\" fill=\"none\"/>\n",
              "    <path d=\"M18.56 5.44l.94 2.06.94-2.06 2.06-.94-2.06-.94-.94-2.06-.94 2.06-2.06.94zm-11 1L8.5 8.5l.94-2.06 2.06-.94-2.06-.94L8.5 2.5l-.94 2.06-2.06.94zm10 10l.94 2.06.94-2.06 2.06-.94-2.06-.94-.94-2.06-.94 2.06-2.06.94z\"/><path d=\"M17.41 7.96l-1.37-1.37c-.4-.4-.92-.59-1.43-.59-.52 0-1.04.2-1.43.59L10.3 9.45l-7.72 7.72c-.78.78-.78 2.05 0 2.83L4 21.41c.39.39.9.59 1.41.59.51 0 1.02-.2 1.41-.59l7.78-7.78 2.81-2.81c.8-.78.8-2.07 0-2.86zM5.41 20L4 18.59l7.72-7.72 1.47 1.35L5.41 20z\"/>\n",
              "  </svg>\n",
              "      </button>\n",
              "      \n",
              "  <style>\n",
              "    .colab-df-container {\n",
              "      display:flex;\n",
              "      flex-wrap:wrap;\n",
              "      gap: 12px;\n",
              "    }\n",
              "\n",
              "    .colab-df-convert {\n",
              "      background-color: #E8F0FE;\n",
              "      border: none;\n",
              "      border-radius: 50%;\n",
              "      cursor: pointer;\n",
              "      display: none;\n",
              "      fill: #1967D2;\n",
              "      height: 32px;\n",
              "      padding: 0 0 0 0;\n",
              "      width: 32px;\n",
              "    }\n",
              "\n",
              "    .colab-df-convert:hover {\n",
              "      background-color: #E2EBFA;\n",
              "      box-shadow: 0px 1px 2px rgba(60, 64, 67, 0.3), 0px 1px 3px 1px rgba(60, 64, 67, 0.15);\n",
              "      fill: #174EA6;\n",
              "    }\n",
              "\n",
              "    [theme=dark] .colab-df-convert {\n",
              "      background-color: #3B4455;\n",
              "      fill: #D2E3FC;\n",
              "    }\n",
              "\n",
              "    [theme=dark] .colab-df-convert:hover {\n",
              "      background-color: #434B5C;\n",
              "      box-shadow: 0px 1px 3px 1px rgba(0, 0, 0, 0.15);\n",
              "      filter: drop-shadow(0px 1px 2px rgba(0, 0, 0, 0.3));\n",
              "      fill: #FFFFFF;\n",
              "    }\n",
              "  </style>\n",
              "\n",
              "      <script>\n",
              "        const buttonEl =\n",
              "          document.querySelector('#df-ee2ddc6d-eff0-4483-af4d-8eed8cad6d19 button.colab-df-convert');\n",
              "        buttonEl.style.display =\n",
              "          google.colab.kernel.accessAllowed ? 'block' : 'none';\n",
              "\n",
              "        async function convertToInteractive(key) {\n",
              "          const element = document.querySelector('#df-ee2ddc6d-eff0-4483-af4d-8eed8cad6d19');\n",
              "          const dataTable =\n",
              "            await google.colab.kernel.invokeFunction('convertToInteractive',\n",
              "                                                     [key], {});\n",
              "          if (!dataTable) return;\n",
              "\n",
              "          const docLinkHtml = 'Like what you see? Visit the ' +\n",
              "            '<a target=\"_blank\" href=https://colab.research.google.com/notebooks/data_table.ipynb>data table notebook</a>'\n",
              "            + ' to learn more about interactive tables.';\n",
              "          element.innerHTML = '';\n",
              "          dataTable['output_type'] = 'display_data';\n",
              "          await google.colab.output.renderOutput(dataTable, element);\n",
              "          const docLink = document.createElement('div');\n",
              "          docLink.innerHTML = docLinkHtml;\n",
              "          element.appendChild(docLink);\n",
              "        }\n",
              "      </script>\n",
              "    </div>\n",
              "  </div>\n",
              "  "
            ]
          },
          "metadata": {},
          "execution_count": 2
        }
      ],
      "source": [
        "df = pd.read_csv('UNVR.csv') \n",
        "df #menampilkan dataset UNVR"
      ]
    },
    {
      "cell_type": "code",
      "execution_count": 3,
      "metadata": {
        "colab": {
          "base_uri": "https://localhost:8080/"
        },
        "id": "R9YnqFNhIyM7",
        "outputId": "c9813b74-ab23-407d-cbcd-92c824638c04"
      },
      "outputs": [
        {
          "output_type": "execute_result",
          "data": {
            "text/plain": [
              "Date         0\n",
              "Open         0\n",
              "High         0\n",
              "Low          0\n",
              "Close        0\n",
              "Adj Close    0\n",
              "Volume       0\n",
              "dtype: int64"
            ]
          },
          "metadata": {},
          "execution_count": 3
        }
      ],
      "source": [
        "df.isna().sum()"
      ]
    },
    {
      "cell_type": "code",
      "execution_count": 4,
      "metadata": {
        "colab": {
          "base_uri": "https://localhost:8080/",
          "height": 421
        },
        "id": "VfxvoAPRI16Z",
        "outputId": "349a5bad-a9b6-484f-eb58-0dc9de976114"
      },
      "outputs": [
        {
          "output_type": "display_data",
          "data": {
            "text/plain": [
              "<Figure size 864x432 with 1 Axes>"
            ],
            "image/png": "[encoded data removed]"
          },
          "metadata": {
            "needs_background": "light"
          }
        }
      ],
      "source": [
        "# Visualisasi data harga penutupan\n",
        "plt.figure(figsize=(12,6))\n",
        "plt.title('Riwayat Harga Penutupan Saham Microsoft', fontsize=24)\n",
        "df['Date'] = pd.to_datetime(df['Date'])\n",
        "plt.plot(df['Date'], df['Close'])\n",
        "\n",
        "plt.xlabel('Year', fontsize=18)\n",
        "plt.ylabel('Harga Penutupan (Rp)', fontsize=18)\n",
        "plt.show()"
      ]
    },
    {
      "cell_type": "code",
      "execution_count": 5,
      "metadata": {
        "colab": {
          "base_uri": "https://localhost:8080/",
          "height": 423
        },
        "id": "yw54ezk4I9T1",
        "outputId": "0ae155a8-18fd-49b0-f438-42ecae0411d5"
      },
      "outputs": [
        {
          "output_type": "execute_result",
          "data": {
            "text/plain": [
              "       Close\n",
              "0      675.0\n",
              "1      685.0\n",
              "2      690.0\n",
              "3      680.0\n",
              "4      665.0\n",
              "...      ...\n",
              "4719  4580.0\n",
              "4720  4580.0\n",
              "4721  4590.0\n",
              "4722  4540.0\n",
              "4723  4550.0\n",
              "\n",
              "[4724 rows x 1 columns]"
            ],
            "text/html": [
              "\n",
              "  <div id=\"df-fa09c086-87a5-4a11-806a-8206cdd6e240\">\n",
              "    <div class=\"colab-df-container\">\n",
              "      <div>\n",
              "<style scoped>\n",
              "    .dataframe tbody tr th:only-of-type {\n",
              "        vertical-align: middle;\n",
              "    }\n",
              "\n",
              "    .dataframe tbody tr th {\n",
              "        vertical-align: top;\n",
              "    }\n",
              "\n",
              "    .dataframe thead th {\n",
              "        text-align: right;\n",
              "    }\n",
              "</style>\n",
              "<table border=\"1\" class=\"dataframe\">\n",
              "  <thead>\n",
              "    <tr style=\"text-align: right;\">\n",
              "      <th></th>\n",
              "      <th>Close</th>\n",
              "    </tr>\n",
              "  </thead>\n",
              "  <tbody>\n",
              "    <tr>\n",
              "      <th>0</th>\n",
              "      <td>675.0</td>\n",
              "    </tr>\n",
              "    <tr>\n",
              "      <th>1</th>\n",
              "      <td>685.0</td>\n",
              "    </tr>\n",
              "    <tr>\n",
              "      <th>2</th>\n",
              "      <td>690.0</td>\n",
              "    </tr>\n",
              "    <tr>\n",
              "      <th>3</th>\n",
              "      <td>680.0</td>\n",
              "    </tr>\n",
              "    <tr>\n",
              "      <th>4</th>\n",
              "      <td>665.0</td>\n",
              "    </tr>\n",
              "    <tr>\n",
              "      <th>...</th>\n",
              "      <td>...</td>\n",
              "    </tr>\n",
              "    <tr>\n",
              "      <th>4719</th>\n",
              "      <td>4580.0</td>\n",
              "    </tr>\n",
              "    <tr>\n",
              "      <th>4720</th>\n",
              "      <td>4580.0</td>\n",
              "    </tr>\n",
              "    <tr>\n",
              "      <th>4721</th>\n",
              "      <td>4590.0</td>\n",
              "    </tr>\n",
              "    <tr>\n",
              "      <th>4722</th>\n",
              "      <td>4540.0</td>\n",
              "    </tr>\n",
              "    <tr>\n",
              "      <th>4723</th>\n",
              "      <td>4550.0</td>\n",
              "    </tr>\n",
              "  </tbody>\n",
              "</table>\n",
              "<p>4724 rows × 1 columns</p>\n",
              "</div>\n",
              "      <button class=\"colab-df-convert\" onclick=\"convertToInteractive('df-fa09c086-87a5-4a11-806a-8206cdd6e240')\"\n",
              "              title=\"Convert this dataframe to an interactive table.\"\n",
              "              style=\"display:none;\">\n",
              "        \n",
              "  <svg xmlns=\"http://www.w3.org/2000/svg\" height=\"24px\"viewBox=\"0 0 24 24\"\n",
              "       width=\"24px\">\n",
              "    <path d=\"M0 0h24v24H0V0z\" fill=\"none\"/>\n",
              "    <path d=\"M18.56 5.44l.94 2.06.94-2.06 2.06-.94-2.06-.94-.94-2.06-.94 2.06-2.06.94zm-11 1L8.5 8.5l.94-2.06 2.06-.94-2.06-.94L8.5 2.5l-.94 2.06-2.06.94zm10 10l.94 2.06.94-2.06 2.06-.94-2.06-.94-.94-2.06-.94 2.06-2.06.94z\"/><path d=\"M17.41 7.96l-1.37-1.37c-.4-.4-.92-.59-1.43-.59-.52 0-1.04.2-1.43.59L10.3 9.45l-7.72 7.72c-.78.78-.78 2.05 0 2.83L4 21.41c.39.39.9.59 1.41.59.51 0 1.02-.2 1.41-.59l7.78-7.78 2.81-2.81c.8-.78.8-2.07 0-2.86zM5.41 20L4 18.59l7.72-7.72 1.47 1.35L5.41 20z\"/>\n",
              "  </svg>\n",
              "      </button>\n",
              "      \n",
              "  <style>\n",
              "    .colab-df-container {\n",
              "      display:flex;\n",
              "      flex-wrap:wrap;\n",
              "      gap: 12px;\n",
              "    }\n",
              "\n",
              "    .colab-df-convert {\n",
              "      background-color: #E8F0FE;\n",
              "      border: none;\n",
              "      border-radius: 50%;\n",
              "      cursor: pointer;\n",
              "      display: none;\n",
              "      fill: #1967D2;\n",
              "      height: 32px;\n",
              "      padding: 0 0 0 0;\n",
              "      width: 32px;\n",
              "    }\n",
              "\n",
              "    .colab-df-convert:hover {\n",
              "      background-color: #E2EBFA;\n",
              "      box-shadow: 0px 1px 2px rgba(60, 64, 67, 0.3), 0px 1px 3px 1px rgba(60, 64, 67, 0.15);\n",
              "      fill: #174EA6;\n",
              "    }\n",
              "\n",
              "    [theme=dark] .colab-df-convert {\n",
              "      background-color: #3B4455;\n",
              "      fill: #D2E3FC;\n",
              "    }\n",
              "\n",
              "    [theme=dark] .colab-df-convert:hover {\n",
              "      background-color: #434B5C;\n",
              "      box-shadow: 0px 1px 3px 1px rgba(0, 0, 0, 0.15);\n",
              "      filter: drop-shadow(0px 1px 2px rgba(0, 0, 0, 0.3));\n",
              "      fill: #FFFFFF;\n",
              "    }\n",
              "  </style>\n",
              "\n",
              "      <script>\n",
              "        const buttonEl =\n",
              "          document.querySelector('#df-fa09c086-87a5-4a11-806a-8206cdd6e240 button.colab-df-convert');\n",
              "        buttonEl.style.display =\n",
              "          google.colab.kernel.accessAllowed ? 'block' : 'none';\n",
              "\n",
              "        async function convertToInteractive(key) {\n",
              "          const element = document.querySelector('#df-fa09c086-87a5-4a11-806a-8206cdd6e240');\n",
              "          const dataTable =\n",
              "            await google.colab.kernel.invokeFunction('convertToInteractive',\n",
              "                                                     [key], {});\n",
              "          if (!dataTable) return;\n",
              "\n",
              "          const docLinkHtml = 'Like what you see? Visit the ' +\n",
              "            '<a target=\"_blank\" href=https://colab.research.google.com/notebooks/data_table.ipynb>data table notebook</a>'\n",
              "            + ' to learn more about interactive tables.';\n",
              "          element.innerHTML = '';\n",
              "          dataTable['output_type'] = 'display_data';\n",
              "          await google.colab.output.renderOutput(dataTable, element);\n",
              "          const docLink = document.createElement('div');\n",
              "          docLink.innerHTML = docLinkHtml;\n",
              "          element.appendChild(docLink);\n",
              "        }\n",
              "      </script>\n",
              "    </div>\n",
              "  </div>\n",
              "  "
            ]
          },
          "metadata": {},
          "execution_count": 5
        }
      ],
      "source": [
        "data = df.filter(['Close'])\n",
        "data"
      ]
    },
    {
      "cell_type": "code",
      "execution_count": 6,
      "metadata": {
        "colab": {
          "base_uri": "https://localhost:8080/",
          "height": 300
        },
        "id": "aQzjQp8QJBbg",
        "outputId": "d664252a-f7a8-4e1f-a212-844ce60d093e"
      },
      "outputs": [
        {
          "output_type": "execute_result",
          "data": {
            "text/plain": [
              "              Close\n",
              "count   4724.000000\n",
              "mean    4728.277942\n",
              "std     3208.212201\n",
              "min      620.000000\n",
              "25%     1380.000000\n",
              "50%     4410.000000\n",
              "75%     7925.000000\n",
              "max    11180.000000"
            ],
            "text/html": [
              "\n",
              "  <div id=\"df-355a8524-c7d6-4dca-b3b4-eee4f9625ba5\">\n",
              "    <div class=\"colab-df-container\">\n",
              "      <div>\n",
              "<style scoped>\n",
              "    .dataframe tbody tr th:only-of-type {\n",
              "        vertical-align: middle;\n",
              "    }\n",
              "\n",
              "    .dataframe tbody tr th {\n",
              "        vertical-align: top;\n",
              "    }\n",
              "\n",
              "    .dataframe thead th {\n",
              "        text-align: right;\n",
              "    }\n",
              "</style>\n",
              "<table border=\"1\" class=\"dataframe\">\n",
              "  <thead>\n",
              "    <tr style=\"text-align: right;\">\n",
              "      <th></th>\n",
              "      <th>Close</th>\n",
              "    </tr>\n",
              "  </thead>\n",
              "  <tbody>\n",
              "    <tr>\n",
              "      <th>count</th>\n",
              "      <td>4724.000000</td>\n",
              "    </tr>\n",
              "    <tr>\n",
              "      <th>mean</th>\n",
              "      <td>4728.277942</td>\n",
              "    </tr>\n",
              "    <tr>\n",
              "      <th>std</th>\n",
              "      <td>3208.212201</td>\n",
              "    </tr>\n",
              "    <tr>\n",
              "      <th>min</th>\n",
              "      <td>620.000000</td>\n",
              "    </tr>\n",
              "    <tr>\n",
              "      <th>25%</th>\n",
              "      <td>1380.000000</td>\n",
              "    </tr>\n",
              "    <tr>\n",
              "      <th>50%</th>\n",
              "      <td>4410.000000</td>\n",
              "    </tr>\n",
              "    <tr>\n",
              "      <th>75%</th>\n",
              "      <td>7925.000000</td>\n",
              "    </tr>\n",
              "    <tr>\n",
              "      <th>max</th>\n",
              "      <td>11180.000000</td>\n",
              "    </tr>\n",
              "  </tbody>\n",
              "</table>\n",
              "</div>\n",
              "      <button class=\"colab-df-convert\" onclick=\"convertToInteractive('df-355a8524-c7d6-4dca-b3b4-eee4f9625ba5')\"\n",
              "              title=\"Convert this dataframe to an interactive table.\"\n",
              "              style=\"display:none;\">\n",
              "        \n",
              "  <svg xmlns=\"http://www.w3.org/2000/svg\" height=\"24px\"viewBox=\"0 0 24 24\"\n",
              "       width=\"24px\">\n",
              "    <path d=\"M0 0h24v24H0V0z\" fill=\"none\"/>\n",
              "    <path d=\"M18.56 5.44l.94 2.06.94-2.06 2.06-.94-2.06-.94-.94-2.06-.94 2.06-2.06.94zm-11 1L8.5 8.5l.94-2.06 2.06-.94-2.06-.94L8.5 2.5l-.94 2.06-2.06.94zm10 10l.94 2.06.94-2.06 2.06-.94-2.06-.94-.94-2.06-.94 2.06-2.06.94z\"/><path d=\"M17.41 7.96l-1.37-1.37c-.4-.4-.92-.59-1.43-.59-.52 0-1.04.2-1.43.59L10.3 9.45l-7.72 7.72c-.78.78-.78 2.05 0 2.83L4 21.41c.39.39.9.59 1.41.59.51 0 1.02-.2 1.41-.59l7.78-7.78 2.81-2.81c.8-.78.8-2.07 0-2.86zM5.41 20L4 18.59l7.72-7.72 1.47 1.35L5.41 20z\"/>\n",
              "  </svg>\n",
              "      </button>\n",
              "      \n",
              "  <style>\n",
              "    .colab-df-container {\n",
              "      display:flex;\n",
              "      flex-wrap:wrap;\n",
              "      gap: 12px;\n",
              "    }\n",
              "\n",
              "    .colab-df-convert {\n",
              "      background-color: #E8F0FE;\n",
              "      border: none;\n",
              "      border-radius: 50%;\n",
              "      cursor: pointer;\n",
              "      display: none;\n",
              "      fill: #1967D2;\n",
              "      height: 32px;\n",
              "      padding: 0 0 0 0;\n",
              "      width: 32px;\n",
              "    }\n",
              "\n",
              "    .colab-df-convert:hover {\n",
              "      background-color: #E2EBFA;\n",
              "      box-shadow: 0px 1px 2px rgba(60, 64, 67, 0.3), 0px 1px 3px 1px rgba(60, 64, 67, 0.15);\n",
              "      fill: #174EA6;\n",
              "    }\n",
              "\n",
              "    [theme=dark] .colab-df-convert {\n",
              "      background-color: #3B4455;\n",
              "      fill: #D2E3FC;\n",
              "    }\n",
              "\n",
              "    [theme=dark] .colab-df-convert:hover {\n",
              "      background-color: #434B5C;\n",
              "      box-shadow: 0px 1px 3px 1px rgba(0, 0, 0, 0.15);\n",
              "      filter: drop-shadow(0px 1px 2px rgba(0, 0, 0, 0.3));\n",
              "      fill: #FFFFFF;\n",
              "    }\n",
              "  </style>\n",
              "\n",
              "      <script>\n",
              "        const buttonEl =\n",
              "          document.querySelector('#df-355a8524-c7d6-4dca-b3b4-eee4f9625ba5 button.colab-df-convert');\n",
              "        buttonEl.style.display =\n",
              "          google.colab.kernel.accessAllowed ? 'block' : 'none';\n",
              "\n",
              "        async function convertToInteractive(key) {\n",
              "          const element = document.querySelector('#df-355a8524-c7d6-4dca-b3b4-eee4f9625ba5');\n",
              "          const dataTable =\n",
              "            await google.colab.kernel.invokeFunction('convertToInteractive',\n",
              "                                                     [key], {});\n",
              "          if (!dataTable) return;\n",
              "\n",
              "          const docLinkHtml = 'Like what you see? Visit the ' +\n",
              "            '<a target=\"_blank\" href=https://colab.research.google.com/notebooks/data_table.ipynb>data table notebook</a>'\n",
              "            + ' to learn more about interactive tables.';\n",
              "          element.innerHTML = '';\n",
              "          dataTable['output_type'] = 'display_data';\n",
              "          await google.colab.output.renderOutput(dataTable, element);\n",
              "          const docLink = document.createElement('div');\n",
              "          docLink.innerHTML = docLinkHtml;\n",
              "          element.appendChild(docLink);\n",
              "        }\n",
              "      </script>\n",
              "    </div>\n",
              "  </div>\n",
              "  "
            ]
          },
          "metadata": {},
          "execution_count": 6
        }
      ],
      "source": [
        "data.describe()"
      ]
    },
    {
      "cell_type": "code",
      "execution_count": 7,
      "metadata": {
        "colab": {
          "base_uri": "https://localhost:8080/"
        },
        "id": "Bi68EfvTJERu",
        "outputId": "ca0e4d26-19d9-4791-920a-f83fe6f8d75e"
      },
      "outputs": [
        {
          "output_type": "execute_result",
          "data": {
            "text/plain": [
              "620.0"
            ]
          },
          "metadata": {},
          "execution_count": 7
        }
      ],
      "source": [
        "data_min = min(df['Close'])\n",
        "data_min"
      ]
    },
    {
      "cell_type": "code",
      "execution_count": 8,
      "metadata": {
        "colab": {
          "base_uri": "https://localhost:8080/"
        },
        "id": "YP0OxeKkJG2M",
        "outputId": "ff36b6b2-c0ac-40a4-f216-0680bb35237b"
      },
      "outputs": [
        {
          "output_type": "execute_result",
          "data": {
            "text/plain": [
              "11180.0"
            ]
          },
          "metadata": {},
          "execution_count": 8
        }
      ],
      "source": [
        "data_max = max(df['Close'])\n",
        "data_max"
      ]
    },
    {
      "cell_type": "code",
      "execution_count": 9,
      "metadata": {
        "colab": {
          "base_uri": "https://localhost:8080/"
        },
        "id": "V1vwey6gJJM5",
        "outputId": "f0cd6d32-1f37-42c3-bfb1-9b3592d1f80f"
      },
      "outputs": [
        {
          "output_type": "execute_result",
          "data": {
            "text/plain": [
              "array([[ 675.],\n",
              "       [ 685.],\n",
              "       [ 690.],\n",
              "       ...,\n",
              "       [4590.],\n",
              "       [4540.],\n",
              "       [4550.]])"
            ]
          },
          "metadata": {},
          "execution_count": 9
        }
      ],
      "source": [
        "data_len = data.values\n",
        "data_len"
      ]
    },
    {
      "cell_type": "code",
      "execution_count": 10,
      "metadata": {
        "colab": {
          "base_uri": "https://localhost:8080/"
        },
        "id": "3mlBdDFFJO2U",
        "outputId": "93cae3ac-62d6-453f-c25c-50b3409e7a76"
      },
      "outputs": [
        {
          "output_type": "execute_result",
          "data": {
            "text/plain": [
              "array([[0.00520833],\n",
              "       [0.0061553 ],\n",
              "       [0.00662879],\n",
              "       ...,\n",
              "       [0.37594697],\n",
              "       [0.37121212],\n",
              "       [0.37215909]])"
            ]
          },
          "metadata": {},
          "execution_count": 10
        }
      ],
      "source": [
        "# Normalisasi data dengan range (0 - 1)\n",
        "sc = MinMaxScaler(feature_range=(0, 1))\n",
        "scaled_data = sc.fit_transform(data_len)\n",
        "scaled_data"
      ]
    },
    {
      "cell_type": "code",
      "execution_count": 11,
      "metadata": {
        "id": "64QpZNLHJrjF"
      },
      "outputs": [],
      "source": [
        "# Split dataset\n",
        "training_data = scaled_data[0:int(len(scaled_data) * 0.8)]\n",
        "test_data = scaled_data[int(len(scaled_data) * 0.8):]"
      ]
    },
    {
      "cell_type": "code",
      "execution_count": 12,
      "metadata": {
        "colab": {
          "base_uri": "https://localhost:8080/"
        },
        "id": "uFlGtvIXKNME",
        "outputId": "9e24d4ad-f647-4227-bf86-9dfc1cc06645"
      },
      "outputs": [
        {
          "output_type": "execute_result",
          "data": {
            "text/plain": [
              "3779"
            ]
          },
          "metadata": {},
          "execution_count": 12
        }
      ],
      "source": [
        "len(training_data)"
      ]
    },
    {
      "cell_type": "code",
      "execution_count": 13,
      "metadata": {
        "colab": {
          "base_uri": "https://localhost:8080/"
        },
        "id": "Hw1P43OtKPP3",
        "outputId": "bccfb71c-2e9a-4d4b-fd92-e27e2b8a038b"
      },
      "outputs": [
        {
          "output_type": "execute_result",
          "data": {
            "text/plain": [
              "945"
            ]
          },
          "metadata": {},
          "execution_count": 13
        }
      ],
      "source": [
        "len(test_data)"
      ]
    },
    {
      "cell_type": "code",
      "execution_count": 14,
      "metadata": {
        "colab": {
          "base_uri": "https://localhost:8080/",
          "height": 499
        },
        "id": "7_OIDu73KTfl",
        "outputId": "a77d55f6-f55a-4e4f-d1d9-cc5cfa6355bf"
      },
      "outputs": [
        {
          "output_type": "display_data",
          "data": {
            "text/plain": [
              "<Figure size 1152x576 with 1 Axes>"
            ],
            "image/png": "[encoded data removed]"
          },
          "metadata": {
            "needs_background": "light"
          }
        }
      ],
      "source": [
        "df_train = data[0:int(len(data)*0.8)]\n",
        "df_test = data[int(len(data)*0.8):]\n",
        "\n",
        "# plot the data\n",
        "# Visualisasi data\n",
        "plt.figure(figsize=(16,8))\n",
        "plt.title('Data Train dan Data Test')\n",
        "plt.ylabel('Close Price', fontsize=18)\n",
        "plt.plot(df_train)\n",
        "plt.plot(df_test)\n",
        "\n",
        "plt.legend(['Data Train', 'Data Test'], loc='lower right')\n",
        "plt.show()"
      ]
    },
    {
      "cell_type": "code",
      "execution_count": 15,
      "metadata": {
        "id": "K10jiQJNnRC4"
      },
      "outputs": [],
      "source": [
        "#Parameter LSTM\n",
        "timestep = 60\n",
        "unit_neuron = 50\n",
        "epoch = 100\n",
        "batch = 32"
      ]
    },
    {
      "cell_type": "code",
      "execution_count": 16,
      "metadata": {
        "colab": {
          "base_uri": "https://localhost:8080/"
        },
        "id": "I2cdebMGKhm9",
        "outputId": "db313d5e-62b0-48ea-e1fe-b2f38aa560dd"
      },
      "outputs": [
        {
          "output_type": "stream",
          "name": "stdout",
          "text": [
            "[array([0.00520833, 0.0061553 , 0.00662879, 0.00568182, 0.00426136,\n",
            "       0.00189394, 0.00189394, 0.00378788, 0.00284091, 0.00426136,\n",
            "       0.00426136, 0.00378788, 0.00378788, 0.00378788, 0.00378788,\n",
            "       0.00426136, 0.00473485, 0.00426136, 0.00378788, 0.00473485,\n",
            "       0.00426136, 0.00473485, 0.00426136, 0.00378788, 0.00426136,\n",
            "       0.00378788, 0.00378788, 0.00331439, 0.00378788, 0.00378788,\n",
            "       0.00284091, 0.00284091, 0.00331439, 0.00284091, 0.00284091,\n",
            "       0.00189394, 0.        , 0.00236742, 0.00236742, 0.00236742,\n",
            "       0.00142045, 0.00047348, 0.00236742, 0.00189394, 0.00284091,\n",
            "       0.00189394, 0.00236742, 0.00284091, 0.00378788, 0.00378788,\n",
            "       0.00331439, 0.00236742, 0.00189394, 0.00142045, 0.00142045,\n",
            "       0.00094697, 0.00094697, 0.00142045, 0.00142045, 0.00142045])]\n",
            "[0.0014204545454545442]\n",
            "\n"
          ]
        }
      ],
      "source": [
        "# membuat struktur data X_train dengan 60 timesteps\n",
        "X_train = []\n",
        "y_train = []\n",
        "for i in range(timestep, len(training_data)):   \n",
        "    X_train.append(training_data[i-timestep:i, 0])\n",
        "    y_train.append(training_data[i, 0])  \n",
        "    if i <= timestep:\n",
        "      print(X_train)\n",
        "      print(y_train)\n",
        "      print()"
      ]
    },
    {
      "cell_type": "code",
      "execution_count": 17,
      "metadata": {
        "id": "0d4ZFBPFLYzr"
      },
      "outputs": [],
      "source": [
        "X_train, y_train = np.array(X_train), np.array(y_train)"
      ]
    },
    {
      "cell_type": "code",
      "execution_count": 18,
      "metadata": {
        "colab": {
          "base_uri": "https://localhost:8080/"
        },
        "id": "P_vuzZSANzHu",
        "outputId": "4125eb5d-1375-4711-d296-237cb8062cbb"
      },
      "outputs": [
        {
          "output_type": "execute_result",
          "data": {
            "text/plain": [
              "(3719, 60, 1)"
            ]
          },
          "metadata": {},
          "execution_count": 18
        }
      ],
      "source": [
        "X_train = np.reshape(X_train, (X_train.shape[0], X_train.shape[1], 1))\n",
        "X_train.shape"
      ]
    },
    {
      "cell_type": "code",
      "execution_count": 19,
      "metadata": {
        "id": "S8fmJY98OgaC"
      },
      "outputs": [],
      "source": [
        "from keras import backend as K\n",
        "def r2_keras(y_true, y_pred):\n",
        "    SS_res = K.sum(K.square(y_true - y_pred))                                           \n",
        "    SS_tot = K.sum(K.square(y_true - K.mean(y_true)))\n",
        "    return (1 - SS_res/(SS_tot + K.epsilon()))"
      ]
    },
    {
      "cell_type": "code",
      "execution_count": 20,
      "metadata": {
        "id": "3pGBvOAvOoxK"
      },
      "outputs": [],
      "source": [
        "model_LSTM = Sequential()\n",
        "\n",
        "#Adding the first LSTM  and some Dropout regularisation\n",
        "model_LSTM.add(LSTM(units = unit_neuron, return_sequences = True, input_shape = (X_train.shape [1], 1)))\n",
        "model_LSTM.add(Dropout(0.2))\n",
        "\n",
        "# Adding a second LSTM layer and some Dropout regularisation\n",
        "model_LSTM.add(LSTM(units = unit_neuron, return_sequences = True))\n",
        "model_LSTM.add(Dropout(0.2))\n",
        "\n",
        "# Adding a third LSTM layer and some Dropout regularisation\n",
        "model_LSTM.add(LSTM(units = unit_neuron, return_sequences = True))\n",
        "model_LSTM.add(Dropout(0.2))\n",
        "\n",
        "# Adding a fourth LSTM layer and some Dropout regularisation\n",
        "model_LSTM.add(LSTM(units = unit_neuron))\n",
        "model_LSTM.add(Dropout(0.2))\n",
        "\n",
        "# Adding the output layer\n",
        "model_LSTM.add(Dense(1))\n",
        "\n",
        "#Compiling the LSTM\n",
        "model_LSTM.compile(optimizer = 'adam', \n",
        "              loss = 'mean_absolute_error', \n",
        "              metrics=[r2_keras])"
      ]
    },
    {
      "cell_type": "code",
      "execution_count": 21,
      "metadata": {
        "colab": {
          "base_uri": "https://localhost:8080/"
        },
        "id": "xJSr7RcOOrzi",
        "outputId": "91f4c09e-10e0-418e-9265-87075182ad4c"
      },
      "outputs": [
        {
          "output_type": "stream",
          "name": "stdout",
          "text": [
            "Epoch 1/100\n",
            "117/117 [==============================] - 36s 136ms/step - loss: 0.0599 - r2_keras: 0.8652\n",
            "Epoch 2/100\n",
            "117/117 [==============================] - 15s 129ms/step - loss: 0.0323 - r2_keras: 0.9707\n",
            "Epoch 3/100\n",
            "117/117 [==============================] - 15s 130ms/step - loss: 0.0307 - r2_keras: 0.9741\n",
            "Epoch 4/100\n",
            "117/117 [==============================] - 15s 129ms/step - loss: 0.0304 - r2_keras: 0.9747\n",
            "Epoch 5/100\n",
            "117/117 [==============================] - 15s 129ms/step - loss: 0.0279 - r2_keras: 0.9772\n",
            "Epoch 6/100\n",
            "117/117 [==============================] - 15s 131ms/step - loss: 0.0288 - r2_keras: 0.9775\n",
            "Epoch 7/100\n",
            "117/117 [==============================] - 17s 145ms/step - loss: 0.0291 - r2_keras: 0.9786\n",
            "Epoch 8/100\n",
            "117/117 [==============================] - 15s 129ms/step - loss: 0.0274 - r2_keras: 0.9788\n",
            "Epoch 9/100\n",
            "117/117 [==============================] - 15s 130ms/step - loss: 0.0263 - r2_keras: 0.9805\n",
            "Epoch 10/100\n",
            "117/117 [==============================] - 15s 130ms/step - loss: 0.0257 - r2_keras: 0.9815\n",
            "Epoch 11/100\n",
            "117/117 [==============================] - 15s 129ms/step - loss: 0.0258 - r2_keras: 0.9819\n",
            "Epoch 12/100\n",
            "117/117 [==============================] - 15s 130ms/step - loss: 0.0272 - r2_keras: 0.9799\n",
            "Epoch 13/100\n",
            "117/117 [==============================] - 15s 130ms/step - loss: 0.0261 - r2_keras: 0.9810\n",
            "Epoch 14/100\n",
            "117/117 [==============================] - 15s 131ms/step - loss: 0.0275 - r2_keras: 0.9797\n",
            "Epoch 15/100\n",
            "117/117 [==============================] - 15s 129ms/step - loss: 0.0239 - r2_keras: 0.9840\n",
            "Epoch 16/100\n",
            "117/117 [==============================] - 15s 130ms/step - loss: 0.0250 - r2_keras: 0.9825\n",
            "Epoch 17/100\n",
            "117/117 [==============================] - 15s 131ms/step - loss: 0.0240 - r2_keras: 0.9845\n",
            "Epoch 18/100\n",
            "117/117 [==============================] - 15s 130ms/step - loss: 0.0231 - r2_keras: 0.9856\n",
            "Epoch 19/100\n",
            "117/117 [==============================] - 15s 130ms/step - loss: 0.0242 - r2_keras: 0.9845\n",
            "Epoch 20/100\n",
            "117/117 [==============================] - 15s 131ms/step - loss: 0.0239 - r2_keras: 0.9847\n",
            "Epoch 21/100\n",
            "117/117 [==============================] - 15s 129ms/step - loss: 0.0256 - r2_keras: 0.9826\n",
            "Epoch 22/100\n",
            "117/117 [==============================] - 15s 130ms/step - loss: 0.0237 - r2_keras: 0.9848\n",
            "Epoch 23/100\n",
            "117/117 [==============================] - 15s 129ms/step - loss: 0.0235 - r2_keras: 0.9853\n",
            "Epoch 24/100\n",
            "117/117 [==============================] - 15s 130ms/step - loss: 0.0234 - r2_keras: 0.9857\n",
            "Epoch 25/100\n",
            "117/117 [==============================] - 15s 130ms/step - loss: 0.0235 - r2_keras: 0.9861\n",
            "Epoch 26/100\n",
            "117/117 [==============================] - 15s 130ms/step - loss: 0.0233 - r2_keras: 0.9857\n",
            "Epoch 27/100\n",
            "117/117 [==============================] - 15s 129ms/step - loss: 0.0234 - r2_keras: 0.9848\n",
            "Epoch 28/100\n",
            "117/117 [==============================] - 15s 130ms/step - loss: 0.0232 - r2_keras: 0.9863\n",
            "Epoch 29/100\n",
            "117/117 [==============================] - 15s 130ms/step - loss: 0.0232 - r2_keras: 0.9858\n",
            "Epoch 30/100\n",
            "117/117 [==============================] - 15s 130ms/step - loss: 0.0227 - r2_keras: 0.9868\n",
            "Epoch 31/100\n",
            "117/117 [==============================] - 15s 129ms/step - loss: 0.0224 - r2_keras: 0.9866\n",
            "Epoch 32/100\n",
            "117/117 [==============================] - 15s 130ms/step - loss: 0.0229 - r2_keras: 0.9866\n",
            "Epoch 33/100\n",
            "117/117 [==============================] - 15s 131ms/step - loss: 0.0231 - r2_keras: 0.9869\n",
            "Epoch 34/100\n",
            "117/117 [==============================] - 15s 129ms/step - loss: 0.0223 - r2_keras: 0.9871\n",
            "Epoch 35/100\n",
            "117/117 [==============================] - 15s 129ms/step - loss: 0.0220 - r2_keras: 0.9876\n",
            "Epoch 36/100\n",
            "117/117 [==============================] - 15s 130ms/step - loss: 0.0231 - r2_keras: 0.9856\n",
            "Epoch 37/100\n",
            "117/117 [==============================] - 15s 130ms/step - loss: 0.0225 - r2_keras: 0.9873\n",
            "Epoch 38/100\n",
            "117/117 [==============================] - 15s 130ms/step - loss: 0.0232 - r2_keras: 0.9862\n",
            "Epoch 39/100\n",
            "117/117 [==============================] - 15s 130ms/step - loss: 0.0229 - r2_keras: 0.9866\n",
            "Epoch 40/100\n",
            "117/117 [==============================] - 15s 131ms/step - loss: 0.0228 - r2_keras: 0.9867\n",
            "Epoch 41/100\n",
            "117/117 [==============================] - 25s 214ms/step - loss: 0.0233 - r2_keras: 0.9860\n",
            "Epoch 42/100\n",
            "117/117 [==============================] - 15s 130ms/step - loss: 0.0238 - r2_keras: 0.9857\n",
            "Epoch 43/100\n",
            "117/117 [==============================] - 15s 130ms/step - loss: 0.0222 - r2_keras: 0.9877\n",
            "Epoch 44/100\n",
            "117/117 [==============================] - 15s 129ms/step - loss: 0.0234 - r2_keras: 0.9870\n",
            "Epoch 45/100\n",
            "117/117 [==============================] - 15s 130ms/step - loss: 0.0223 - r2_keras: 0.9876\n",
            "Epoch 46/100\n",
            "117/117 [==============================] - 15s 129ms/step - loss: 0.0226 - r2_keras: 0.9869\n",
            "Epoch 47/100\n",
            "117/117 [==============================] - 15s 130ms/step - loss: 0.0228 - r2_keras: 0.9864\n",
            "Epoch 48/100\n",
            "117/117 [==============================] - 17s 143ms/step - loss: 0.0226 - r2_keras: 0.9869\n",
            "Epoch 49/100\n",
            "117/117 [==============================] - 15s 130ms/step - loss: 0.0213 - r2_keras: 0.9887\n",
            "Epoch 50/100\n",
            "117/117 [==============================] - 15s 130ms/step - loss: 0.0225 - r2_keras: 0.9874\n",
            "Epoch 51/100\n",
            "117/117 [==============================] - 15s 130ms/step - loss: 0.0222 - r2_keras: 0.9876\n",
            "Epoch 52/100\n",
            "117/117 [==============================] - 15s 130ms/step - loss: 0.0224 - r2_keras: 0.9880\n",
            "Epoch 53/100\n",
            "117/117 [==============================] - 15s 129ms/step - loss: 0.0217 - r2_keras: 0.9884\n",
            "Epoch 54/100\n",
            "117/117 [==============================] - 15s 130ms/step - loss: 0.0213 - r2_keras: 0.9888\n",
            "Epoch 55/100\n",
            "117/117 [==============================] - 15s 130ms/step - loss: 0.0219 - r2_keras: 0.9884\n",
            "Epoch 56/100\n",
            "117/117 [==============================] - 15s 129ms/step - loss: 0.0216 - r2_keras: 0.9885\n",
            "Epoch 57/100\n",
            "117/117 [==============================] - 15s 131ms/step - loss: 0.0222 - r2_keras: 0.9876\n",
            "Epoch 58/100\n",
            "117/117 [==============================] - 15s 130ms/step - loss: 0.0219 - r2_keras: 0.9881\n",
            "Epoch 59/100\n",
            "117/117 [==============================] - 15s 129ms/step - loss: 0.0225 - r2_keras: 0.9881\n",
            "Epoch 60/100\n",
            "117/117 [==============================] - 15s 131ms/step - loss: 0.0217 - r2_keras: 0.9885\n",
            "Epoch 61/100\n",
            "117/117 [==============================] - 15s 129ms/step - loss: 0.0211 - r2_keras: 0.9889\n",
            "Epoch 62/100\n",
            "117/117 [==============================] - 15s 129ms/step - loss: 0.0219 - r2_keras: 0.9884\n",
            "Epoch 63/100\n",
            "117/117 [==============================] - 15s 130ms/step - loss: 0.0217 - r2_keras: 0.9887\n",
            "Epoch 64/100\n",
            "117/117 [==============================] - 15s 129ms/step - loss: 0.0209 - r2_keras: 0.9888\n",
            "Epoch 65/100\n",
            "117/117 [==============================] - 15s 129ms/step - loss: 0.0215 - r2_keras: 0.9887\n",
            "Epoch 66/100\n",
            "117/117 [==============================] - 15s 128ms/step - loss: 0.0213 - r2_keras: 0.9887\n",
            "Epoch 67/100\n",
            "117/117 [==============================] - 15s 129ms/step - loss: 0.0217 - r2_keras: 0.9883\n",
            "Epoch 68/100\n",
            "117/117 [==============================] - 15s 129ms/step - loss: 0.0220 - r2_keras: 0.9880\n",
            "Epoch 69/100\n",
            "117/117 [==============================] - 15s 129ms/step - loss: 0.0211 - r2_keras: 0.9896\n",
            "Epoch 70/100\n",
            "117/117 [==============================] - 15s 129ms/step - loss: 0.0204 - r2_keras: 0.9899\n",
            "Epoch 71/100\n",
            "117/117 [==============================] - 15s 129ms/step - loss: 0.0215 - r2_keras: 0.9886\n",
            "Epoch 72/100\n",
            "117/117 [==============================] - 15s 129ms/step - loss: 0.0211 - r2_keras: 0.9890\n",
            "Epoch 73/100\n",
            "117/117 [==============================] - 15s 129ms/step - loss: 0.0208 - r2_keras: 0.9893\n",
            "Epoch 74/100\n",
            "117/117 [==============================] - 15s 129ms/step - loss: 0.0211 - r2_keras: 0.9891\n",
            "Epoch 75/100\n",
            "117/117 [==============================] - 15s 130ms/step - loss: 0.0204 - r2_keras: 0.9898\n",
            "Epoch 76/100\n",
            "117/117 [==============================] - 15s 130ms/step - loss: 0.0204 - r2_keras: 0.9896\n",
            "Epoch 77/100\n",
            "117/117 [==============================] - 15s 130ms/step - loss: 0.0207 - r2_keras: 0.9895\n",
            "Epoch 78/100\n",
            "117/117 [==============================] - 15s 131ms/step - loss: 0.0209 - r2_keras: 0.9896\n",
            "Epoch 79/100\n",
            "117/117 [==============================] - 15s 129ms/step - loss: 0.0213 - r2_keras: 0.9890\n",
            "Epoch 80/100\n",
            "117/117 [==============================] - 15s 129ms/step - loss: 0.0212 - r2_keras: 0.9888\n",
            "Epoch 81/100\n",
            "117/117 [==============================] - 15s 129ms/step - loss: 0.0193 - r2_keras: 0.9910\n",
            "Epoch 82/100\n",
            "117/117 [==============================] - 15s 129ms/step - loss: 0.0213 - r2_keras: 0.9890\n",
            "Epoch 83/100\n",
            "117/117 [==============================] - 15s 130ms/step - loss: 0.0207 - r2_keras: 0.9901\n",
            "Epoch 84/100\n",
            "117/117 [==============================] - 15s 130ms/step - loss: 0.0203 - r2_keras: 0.9899\n",
            "Epoch 85/100\n",
            "117/117 [==============================] - 15s 130ms/step - loss: 0.0210 - r2_keras: 0.9890\n",
            "Epoch 86/100\n",
            "117/117 [==============================] - 15s 129ms/step - loss: 0.0205 - r2_keras: 0.9895\n",
            "Epoch 87/100\n",
            "117/117 [==============================] - 15s 129ms/step - loss: 0.0206 - r2_keras: 0.9899\n",
            "Epoch 88/100\n",
            "117/117 [==============================] - 15s 129ms/step - loss: 0.0207 - r2_keras: 0.9895\n",
            "Epoch 89/100\n",
            "117/117 [==============================] - 15s 129ms/step - loss: 0.0224 - r2_keras: 0.9883\n",
            "Epoch 90/100\n",
            "117/117 [==============================] - 15s 129ms/step - loss: 0.0204 - r2_keras: 0.9898\n",
            "Epoch 91/100\n",
            "117/117 [==============================] - 15s 129ms/step - loss: 0.0209 - r2_keras: 0.9891\n",
            "Epoch 92/100\n",
            "117/117 [==============================] - 15s 128ms/step - loss: 0.0218 - r2_keras: 0.9886\n",
            "Epoch 93/100\n",
            "117/117 [==============================] - 15s 129ms/step - loss: 0.0201 - r2_keras: 0.9903\n",
            "Epoch 94/100\n",
            "117/117 [==============================] - 15s 128ms/step - loss: 0.0213 - r2_keras: 0.9890\n",
            "Epoch 95/100\n",
            "117/117 [==============================] - 15s 129ms/step - loss: 0.0206 - r2_keras: 0.9895\n",
            "Epoch 96/100\n",
            "117/117 [==============================] - 15s 130ms/step - loss: 0.0202 - r2_keras: 0.9897\n",
            "Epoch 97/100\n",
            "117/117 [==============================] - 15s 128ms/step - loss: 0.0206 - r2_keras: 0.9896\n",
            "Epoch 98/100\n",
            "117/117 [==============================] - 15s 129ms/step - loss: 0.0203 - r2_keras: 0.9897\n",
            "Epoch 99/100\n",
            "117/117 [==============================] - 15s 129ms/step - loss: 0.0204 - r2_keras: 0.9903\n",
            "Epoch 100/100\n",
            "117/117 [==============================] - 15s 129ms/step - loss: 0.0202 - r2_keras: 0.9900\n"
          ]
        },
        {
          "output_type": "execute_result",
          "data": {
            "text/plain": [
              "<keras.callbacks.History at 0x7fbd0d6e4850>"
            ]
          },
          "metadata": {},
          "execution_count": 21
        }
      ],
      "source": [
        "# Fitting LSTM ke data train\n",
        "model_LSTM.fit(X_train, y_train, epochs = epoch, batch_size = batch)"
      ]
    },
    {
      "cell_type": "code",
      "execution_count": 22,
      "metadata": {
        "colab": {
          "base_uri": "https://localhost:8080/",
          "height": 509
        },
        "id": "a7SehOMDQQMl",
        "outputId": "001076a3-86af-4bc5-c6a3-bee92ee01edf"
      },
      "outputs": [
        {
          "output_type": "display_data",
          "data": {
            "text/plain": [
              "<Figure size 1152x576 with 1 Axes>"
            ],
            "image/png": "[encoded data removed]"
          },
          "metadata": {
            "needs_background": "light"
          }
        }
      ],
      "source": [
        "plt.figure(figsize=(16,8))\n",
        "plt.title('Harga Saham Aktual VS Prediksi Data Train(LSTM)', fontsize=26)\n",
        "plt.plot(y_train, label = \"actual\")\n",
        "plt.plot(model_LSTM.predict(X_train), label = \"predicted\")\n",
        "plt.legend()\n",
        "plt.show()"
      ]
    },
    {
      "cell_type": "code",
      "source": [
        "# buat varibel penampung model RNN\n",
        "model_RNN = Sequential()\n",
        "\n",
        "#Adding the first SimpleRNN  and some Dropout regularisation\n",
        "model_RNN.add(SimpleRNN(units = unit_neuron, return_sequences = True, input_shape = (X_train.shape [1], 1)))\n",
        "model_RNN.add(Dropout(0.2))\n",
        "\n",
        "# Adding a second SimpleRNN layer and some Dropout regularisation\n",
        "model_RNN.add(SimpleRNN(units = unit_neuron, return_sequences = True))\n",
        "model_RNN.add(Dropout(0.2))\n",
        "\n",
        "# Adding a third SimpleRNN layer and some Dropout regularisation\n",
        "model_RNN.add(SimpleRNN(units = unit_neuron, return_sequences = True))\n",
        "model_RNN.add(Dropout(0.2))\n",
        "\n",
        "# Adding a fourth LSTM layer and some Dropout regularisation\n",
        "model_RNN.add(SimpleRNN(units = unit_neuron))\n",
        "model_RNN.add(Dropout(0.2))\n",
        "\n",
        "# Adding the output layer\n",
        "model_RNN.add(Dense(1))\n",
        "\n",
        "#Compiling the LSTM\n",
        "model_RNN.compile(optimizer = 'adam', \n",
        "              loss = 'mean_absolute_error', \n",
        "              metrics=[r2_keras])"
      ],
      "metadata": {
        "id": "bTNyGIRen501"
      },
      "execution_count": 23,
      "outputs": []
    },
    {
      "cell_type": "code",
      "source": [
        "# Fitting RNN ke data train\n",
        "model_RNN.fit(X_train, y_train, epochs = epoch, batch_size = batch)"
      ],
      "metadata": {
        "colab": {
          "base_uri": "https://localhost:8080/"
        },
        "id": "vZqHJJPGowG7",
        "outputId": "49a1b852-9165-47cc-a115-f3378475beae"
      },
      "execution_count": 24,
      "outputs": [
        {
          "output_type": "stream",
          "name": "stdout",
          "text": [
            "Epoch 1/100\n",
            "117/117 [==============================] - 11s 60ms/step - loss: 0.4364 - r2_keras: -2.5463\n",
            "Epoch 2/100\n",
            "117/117 [==============================] - 7s 60ms/step - loss: 0.2439 - r2_keras: -0.1210\n",
            "Epoch 3/100\n",
            "117/117 [==============================] - 7s 59ms/step - loss: 0.1363 - r2_keras: 0.5591\n",
            "Epoch 4/100\n",
            "117/117 [==============================] - 7s 60ms/step - loss: 0.0933 - r2_keras: 0.7777\n",
            "Epoch 5/100\n",
            "117/117 [==============================] - 7s 59ms/step - loss: 0.0746 - r2_keras: 0.8527\n",
            "Epoch 6/100\n",
            "117/117 [==============================] - 7s 59ms/step - loss: 0.0598 - r2_keras: 0.9074\n",
            "Epoch 7/100\n",
            "117/117 [==============================] - 7s 59ms/step - loss: 0.0522 - r2_keras: 0.9303\n",
            "Epoch 8/100\n",
            "117/117 [==============================] - 7s 58ms/step - loss: 0.0463 - r2_keras: 0.9418\n",
            "Epoch 9/100\n",
            "117/117 [==============================] - 7s 59ms/step - loss: 0.0416 - r2_keras: 0.9543\n",
            "Epoch 10/100\n",
            "117/117 [==============================] - 7s 60ms/step - loss: 0.0383 - r2_keras: 0.9618\n",
            "Epoch 11/100\n",
            "117/117 [==============================] - 7s 59ms/step - loss: 0.0359 - r2_keras: 0.9661\n",
            "Epoch 12/100\n",
            "117/117 [==============================] - 7s 59ms/step - loss: 0.0352 - r2_keras: 0.9677\n",
            "Epoch 13/100\n",
            "117/117 [==============================] - 7s 59ms/step - loss: 0.0327 - r2_keras: 0.9721\n",
            "Epoch 14/100\n",
            "117/117 [==============================] - 7s 59ms/step - loss: 0.0319 - r2_keras: 0.9742\n",
            "Epoch 15/100\n",
            "117/117 [==============================] - 7s 59ms/step - loss: 0.0320 - r2_keras: 0.9720\n",
            "Epoch 16/100\n",
            "117/117 [==============================] - 7s 59ms/step - loss: 0.0303 - r2_keras: 0.9765\n",
            "Epoch 17/100\n",
            "117/117 [==============================] - 7s 60ms/step - loss: 0.0299 - r2_keras: 0.9767\n",
            "Epoch 18/100\n",
            "117/117 [==============================] - 7s 59ms/step - loss: 0.0310 - r2_keras: 0.9752\n",
            "Epoch 19/100\n",
            "117/117 [==============================] - 7s 59ms/step - loss: 0.0298 - r2_keras: 0.9781\n",
            "Epoch 20/100\n",
            "117/117 [==============================] - 7s 58ms/step - loss: 0.0290 - r2_keras: 0.9793\n",
            "Epoch 21/100\n",
            "117/117 [==============================] - 7s 59ms/step - loss: 0.0281 - r2_keras: 0.9804\n",
            "Epoch 22/100\n",
            "117/117 [==============================] - 7s 59ms/step - loss: 0.0315 - r2_keras: 0.9760\n",
            "Epoch 23/100\n",
            "117/117 [==============================] - 7s 59ms/step - loss: 0.0263 - r2_keras: 0.9824\n",
            "Epoch 24/100\n",
            "117/117 [==============================] - 7s 59ms/step - loss: 0.0269 - r2_keras: 0.9810\n",
            "Epoch 25/100\n",
            "117/117 [==============================] - 7s 60ms/step - loss: 0.0270 - r2_keras: 0.9813\n",
            "Epoch 26/100\n",
            "117/117 [==============================] - 7s 59ms/step - loss: 0.0280 - r2_keras: 0.9806\n",
            "Epoch 27/100\n",
            "117/117 [==============================] - 7s 59ms/step - loss: 0.0272 - r2_keras: 0.9818\n",
            "Epoch 28/100\n",
            "117/117 [==============================] - 7s 59ms/step - loss: 0.0262 - r2_keras: 0.9827\n",
            "Epoch 29/100\n",
            "117/117 [==============================] - 7s 59ms/step - loss: 0.0269 - r2_keras: 0.9816\n",
            "Epoch 30/100\n",
            "117/117 [==============================] - 7s 59ms/step - loss: 0.0276 - r2_keras: 0.9776\n",
            "Epoch 31/100\n",
            "117/117 [==============================] - 7s 59ms/step - loss: 0.0245 - r2_keras: 0.9854\n",
            "Epoch 32/100\n",
            "117/117 [==============================] - 7s 59ms/step - loss: 0.0258 - r2_keras: 0.9837\n",
            "Epoch 33/100\n",
            "117/117 [==============================] - 7s 59ms/step - loss: 0.0262 - r2_keras: 0.9830\n",
            "Epoch 34/100\n",
            "117/117 [==============================] - 7s 59ms/step - loss: 0.0250 - r2_keras: 0.9850\n",
            "Epoch 35/100\n",
            "117/117 [==============================] - 7s 59ms/step - loss: 0.0278 - r2_keras: 0.9812\n",
            "Epoch 36/100\n",
            "117/117 [==============================] - 7s 60ms/step - loss: 0.0253 - r2_keras: 0.9843\n",
            "Epoch 37/100\n",
            "117/117 [==============================] - 7s 59ms/step - loss: 0.0267 - r2_keras: 0.9817\n",
            "Epoch 38/100\n",
            "117/117 [==============================] - 7s 59ms/step - loss: 0.0247 - r2_keras: 0.9854\n",
            "Epoch 39/100\n",
            "117/117 [==============================] - 7s 59ms/step - loss: 0.0265 - r2_keras: 0.9830\n",
            "Epoch 40/100\n",
            "117/117 [==============================] - 7s 59ms/step - loss: 0.0268 - r2_keras: 0.9830\n",
            "Epoch 41/100\n",
            "117/117 [==============================] - 7s 59ms/step - loss: 0.0249 - r2_keras: 0.9851\n",
            "Epoch 42/100\n",
            "117/117 [==============================] - 7s 59ms/step - loss: 0.0267 - r2_keras: 0.9829\n",
            "Epoch 43/100\n",
            "117/117 [==============================] - 7s 59ms/step - loss: 0.0255 - r2_keras: 0.9850\n",
            "Epoch 44/100\n",
            "117/117 [==============================] - 7s 59ms/step - loss: 0.0250 - r2_keras: 0.9846\n",
            "Epoch 45/100\n",
            "117/117 [==============================] - 7s 59ms/step - loss: 0.0262 - r2_keras: 0.9841\n",
            "Epoch 46/100\n",
            "117/117 [==============================] - 7s 59ms/step - loss: 0.0253 - r2_keras: 0.9854\n",
            "Epoch 47/100\n",
            "117/117 [==============================] - 7s 59ms/step - loss: 0.0247 - r2_keras: 0.9857\n",
            "Epoch 48/100\n",
            "117/117 [==============================] - 7s 60ms/step - loss: 0.0255 - r2_keras: 0.9844\n",
            "Epoch 49/100\n",
            "117/117 [==============================] - 7s 59ms/step - loss: 0.0259 - r2_keras: 0.9848\n",
            "Epoch 50/100\n",
            "117/117 [==============================] - 7s 60ms/step - loss: 0.0254 - r2_keras: 0.9847\n",
            "Epoch 51/100\n",
            "117/117 [==============================] - 7s 59ms/step - loss: 0.0246 - r2_keras: 0.9852\n",
            "Epoch 52/100\n",
            "117/117 [==============================] - 7s 59ms/step - loss: 0.0260 - r2_keras: 0.9832\n",
            "Epoch 53/100\n",
            "117/117 [==============================] - 7s 60ms/step - loss: 0.0264 - r2_keras: 0.9837\n",
            "Epoch 54/100\n",
            "117/117 [==============================] - 7s 60ms/step - loss: 0.0252 - r2_keras: 0.9858\n",
            "Epoch 55/100\n",
            "117/117 [==============================] - 7s 59ms/step - loss: 0.0261 - r2_keras: 0.9845\n",
            "Epoch 56/100\n",
            "117/117 [==============================] - 7s 59ms/step - loss: 0.0265 - r2_keras: 0.9844\n",
            "Epoch 57/100\n",
            "117/117 [==============================] - 7s 59ms/step - loss: 0.0249 - r2_keras: 0.9858\n",
            "Epoch 58/100\n",
            "117/117 [==============================] - 7s 60ms/step - loss: 0.0246 - r2_keras: 0.9858\n",
            "Epoch 59/100\n",
            "117/117 [==============================] - 7s 59ms/step - loss: 0.0238 - r2_keras: 0.9869\n",
            "Epoch 60/100\n",
            "117/117 [==============================] - 7s 59ms/step - loss: 0.0248 - r2_keras: 0.9857\n",
            "Epoch 61/100\n",
            "117/117 [==============================] - 7s 59ms/step - loss: 0.0246 - r2_keras: 0.9859\n",
            "Epoch 62/100\n",
            "117/117 [==============================] - 7s 59ms/step - loss: 0.0247 - r2_keras: 0.9863\n",
            "Epoch 63/100\n",
            "117/117 [==============================] - 7s 60ms/step - loss: 0.0263 - r2_keras: 0.9851\n",
            "Epoch 64/100\n",
            "117/117 [==============================] - 7s 60ms/step - loss: 0.0264 - r2_keras: 0.9843\n",
            "Epoch 65/100\n",
            "117/117 [==============================] - 7s 59ms/step - loss: 0.0254 - r2_keras: 0.9850\n",
            "Epoch 66/100\n",
            "117/117 [==============================] - 7s 59ms/step - loss: 0.0254 - r2_keras: 0.9852\n",
            "Epoch 67/100\n",
            "117/117 [==============================] - 7s 60ms/step - loss: 0.0237 - r2_keras: 0.9873\n",
            "Epoch 68/100\n",
            "117/117 [==============================] - 7s 59ms/step - loss: 0.0246 - r2_keras: 0.9861\n",
            "Epoch 69/100\n",
            "117/117 [==============================] - 7s 59ms/step - loss: 0.0240 - r2_keras: 0.9870\n",
            "Epoch 70/100\n",
            "117/117 [==============================] - 7s 59ms/step - loss: 0.0238 - r2_keras: 0.9871\n",
            "Epoch 71/100\n",
            "117/117 [==============================] - 7s 59ms/step - loss: 0.0241 - r2_keras: 0.9865\n",
            "Epoch 72/100\n",
            "117/117 [==============================] - 7s 59ms/step - loss: 0.0244 - r2_keras: 0.9864\n",
            "Epoch 73/100\n",
            "117/117 [==============================] - 7s 61ms/step - loss: 0.0254 - r2_keras: 0.9855\n",
            "Epoch 74/100\n",
            "117/117 [==============================] - 7s 60ms/step - loss: 0.0243 - r2_keras: 0.9865\n",
            "Epoch 75/100\n",
            "117/117 [==============================] - 7s 59ms/step - loss: 0.0242 - r2_keras: 0.9867\n",
            "Epoch 76/100\n",
            "117/117 [==============================] - 7s 59ms/step - loss: 0.0252 - r2_keras: 0.9854\n",
            "Epoch 77/100\n",
            "117/117 [==============================] - 7s 60ms/step - loss: 0.0241 - r2_keras: 0.9869\n",
            "Epoch 78/100\n",
            "117/117 [==============================] - 7s 60ms/step - loss: 0.0240 - r2_keras: 0.9864\n",
            "Epoch 79/100\n",
            "117/117 [==============================] - 7s 59ms/step - loss: 0.0257 - r2_keras: 0.9848\n",
            "Epoch 80/100\n",
            "117/117 [==============================] - 7s 59ms/step - loss: 0.0247 - r2_keras: 0.9859\n",
            "Epoch 81/100\n",
            "117/117 [==============================] - 7s 60ms/step - loss: 0.0239 - r2_keras: 0.9871\n",
            "Epoch 82/100\n",
            "117/117 [==============================] - 7s 60ms/step - loss: 0.0242 - r2_keras: 0.9868\n",
            "Epoch 83/100\n",
            "117/117 [==============================] - 7s 60ms/step - loss: 0.0242 - r2_keras: 0.9865\n",
            "Epoch 84/100\n",
            "117/117 [==============================] - 7s 60ms/step - loss: 0.0255 - r2_keras: 0.9855\n",
            "Epoch 85/100\n",
            "117/117 [==============================] - 7s 59ms/step - loss: 0.0247 - r2_keras: 0.9865\n",
            "Epoch 86/100\n",
            "117/117 [==============================] - 7s 59ms/step - loss: 0.0242 - r2_keras: 0.9872\n",
            "Epoch 87/100\n",
            "117/117 [==============================] - 7s 60ms/step - loss: 0.0237 - r2_keras: 0.9873\n",
            "Epoch 88/100\n",
            "117/117 [==============================] - 7s 60ms/step - loss: 0.0245 - r2_keras: 0.9866\n",
            "Epoch 89/100\n",
            "117/117 [==============================] - 7s 60ms/step - loss: 0.0243 - r2_keras: 0.9861\n",
            "Epoch 90/100\n",
            "117/117 [==============================] - 7s 60ms/step - loss: 0.0239 - r2_keras: 0.9871\n",
            "Epoch 91/100\n",
            "117/117 [==============================] - 7s 60ms/step - loss: 0.0235 - r2_keras: 0.9873\n",
            "Epoch 92/100\n",
            "117/117 [==============================] - 7s 60ms/step - loss: 0.0230 - r2_keras: 0.9879\n",
            "Epoch 93/100\n",
            "117/117 [==============================] - 7s 60ms/step - loss: 0.0252 - r2_keras: 0.9859\n",
            "Epoch 94/100\n",
            "117/117 [==============================] - 7s 60ms/step - loss: 0.0249 - r2_keras: 0.9858\n",
            "Epoch 95/100\n",
            "117/117 [==============================] - 7s 60ms/step - loss: 0.0237 - r2_keras: 0.9872\n",
            "Epoch 96/100\n",
            "117/117 [==============================] - 7s 60ms/step - loss: 0.0235 - r2_keras: 0.9875\n",
            "Epoch 97/100\n",
            "117/117 [==============================] - 7s 60ms/step - loss: 0.0240 - r2_keras: 0.9866\n",
            "Epoch 98/100\n",
            "117/117 [==============================] - 7s 60ms/step - loss: 0.0246 - r2_keras: 0.9862\n",
            "Epoch 99/100\n",
            "117/117 [==============================] - 7s 60ms/step - loss: 0.0232 - r2_keras: 0.9878\n",
            "Epoch 100/100\n",
            "117/117 [==============================] - 7s 60ms/step - loss: 0.0241 - r2_keras: 0.9869\n"
          ]
        },
        {
          "output_type": "execute_result",
          "data": {
            "text/plain": [
              "<keras.callbacks.History at 0x7fbd0d1dd410>"
            ]
          },
          "metadata": {},
          "execution_count": 24
        }
      ]
    },
    {
      "cell_type": "code",
      "source": [
        "plt.figure(figsize=(16,8))\n",
        "plt.title('Harga Saham Aktual VS Prediksi Data Train(RNN)', fontsize=26)\n",
        "plt.plot(y_train, label = \"actual\")\n",
        "plt.plot(model_RNN.predict(X_train), label = \"predicted\")\n",
        "plt.legend()\n",
        "plt.show()"
      ],
      "metadata": {
        "colab": {
          "base_uri": "https://localhost:8080/",
          "height": 509
        },
        "id": "gXWoW0Mfo4WB",
        "outputId": "b0ffc94a-e672-452a-d332-db6650ab92a6"
      },
      "execution_count": 25,
      "outputs": [
        {
          "output_type": "display_data",
          "data": {
            "text/plain": [
              "<Figure size 1152x576 with 1 Axes>"
            ],
            "image/png": "[encoded data removed]"
          },
          "metadata": {
            "needs_background": "light"
          }
        }
      ]
    },
    {
      "cell_type": "code",
      "execution_count": 26,
      "metadata": {
        "colab": {
          "base_uri": "https://localhost:8080/"
        },
        "id": "3oTgIZlzYtNs",
        "outputId": "1f9a9dbc-b80e-4029-877c-ea41448c96c1"
      },
      "outputs": [
        {
          "output_type": "stream",
          "name": "stdout",
          "text": [
            "1005\n"
          ]
        }
      ],
      "source": [
        "total_data = pd.concat((df_train, df_test), axis=0)\n",
        "inputs = total_data[len(total_data) - len(df_test) - timestep:].values\n",
        "inputs = inputs.reshape(-1,1)\n",
        "inputs = sc.transform(inputs)\n",
        "print(len(inputs))"
      ]
    },
    {
      "cell_type": "code",
      "execution_count": 27,
      "metadata": {
        "colab": {
          "base_uri": "https://localhost:8080/"
        },
        "id": "T0ptFuyKZu3W",
        "outputId": "fbd152a7-9e8c-4d7b-c9f0-e49956e20aa2"
      },
      "outputs": [
        {
          "output_type": "stream",
          "name": "stdout",
          "text": [
            "[array([0.74668561, 0.74337121, 0.74810606, 0.74810606, 0.76231061,\n",
            "       0.75568182, 0.76893939, 0.77793561, 0.78314394, 0.78030303,\n",
            "       0.7717803 , 0.76846591, 0.77414773, 0.72916667, 0.73816288,\n",
            "       0.78361742, 0.80350379, 0.80350379, 0.81486742, 0.82291667,\n",
            "       0.83333333, 0.81344697, 0.80350379, 0.81628788, 0.82433712,\n",
            "       0.83285985, 0.83285985, 0.8125    , 0.81392045, 0.8342803 ,\n",
            "       0.83191288, 0.81818182, 0.80823864, 0.7907197 , 0.7561553 ,\n",
            "       0.74952652, 0.77840909, 0.78219697, 0.79166667, 0.77651515,\n",
            "       0.78030303, 0.76704545, 0.80492424, 0.79356061, 0.78598485,\n",
            "       0.7907197 , 0.78361742, 0.78409091, 0.75568182, 0.78030303,\n",
            "       0.77793561, 0.77367424, 0.78409091, 0.75994318, 0.7405303 ,\n",
            "       0.75047348, 0.75710227, 0.75568182, 0.7405303 , 0.74242424])]\n",
            "\n"
          ]
        }
      ],
      "source": [
        "# membuat struktur data X_test dengan 60 timesteps\n",
        "X_test = []\n",
        "y_test = []\n",
        "for i in range(timestep, len(inputs)):\n",
        "  X_test.append(inputs[i-timestep:i, 0])\n",
        "  if i <= timestep:\n",
        "    print(X_test)\n",
        "    print()\n",
        "\n",
        "# X_test = np.array(X_test)\n",
        "# X_test = np.reshape(X_test, (X_test.shape[0], X_test.shape[1], 1))"
      ]
    },
    {
      "cell_type": "code",
      "execution_count": 28,
      "metadata": {
        "colab": {
          "base_uri": "https://localhost:8080/"
        },
        "id": "9PhJAkKPaZ4s",
        "outputId": "259ecd4a-2196-4123-98ce-c8413c65c66a"
      },
      "outputs": [
        {
          "output_type": "execute_result",
          "data": {
            "text/plain": [
              "(945, 60, 1)"
            ]
          },
          "metadata": {},
          "execution_count": 28
        }
      ],
      "source": [
        "X_test, y_test = np.array(X_test), np.array(y_test)\n",
        "\n",
        "X_test = np.reshape(X_test, (X_test.shape[0], X_test.shape[1], 1))\n",
        "X_test.shape"
      ]
    },
    {
      "cell_type": "code",
      "execution_count": 29,
      "metadata": {
        "colab": {
          "base_uri": "https://localhost:8080/"
        },
        "id": "DUXFJt4pY9Yo",
        "outputId": "6ae1fd38-b9df-47aa-f4b1-83e50f131793"
      },
      "outputs": [
        {
          "output_type": "stream",
          "name": "stdout",
          "text": [
            "945\n"
          ]
        }
      ],
      "source": [
        "predicted_LSTM = model_LSTM.predict(X_test)\n",
        "predicted_LSTM = sc.inverse_transform(\n",
        "    predicted_LSTM)\n",
        "print(len(predicted_LSTM))"
      ]
    },
    {
      "cell_type": "code",
      "source": [
        "predicted_RNN = model_RNN.predict(X_test)\n",
        "predicted_RNN = sc.inverse_transform(\n",
        "    predicted_RNN)\n",
        "print(len(predicted_RNN))"
      ],
      "metadata": {
        "colab": {
          "base_uri": "https://localhost:8080/"
        },
        "id": "ZnkHKYzsry1x",
        "outputId": "8b150e8d-ee4c-40e3-a6bb-9997d274e44e"
      },
      "execution_count": 30,
      "outputs": [
        {
          "output_type": "stream",
          "name": "stdout",
          "text": [
            "945\n"
          ]
        }
      ]
    },
    {
      "cell_type": "code",
      "execution_count": 31,
      "metadata": {
        "colab": {
          "base_uri": "https://localhost:8080/",
          "height": 423
        },
        "id": "R4Gs3JaaZEwB",
        "outputId": "8d46ac37-b0e8-42e1-874e-a0044654b02d"
      },
      "outputs": [
        {
          "output_type": "execute_result",
          "data": {
            "text/plain": [
              "     Real Price  Prediction LSTM  Prediction RNN\n",
              "0        8065.0      8734.052734     8775.239258\n",
              "1        7875.0      8613.247070     8560.471680\n",
              "2        7990.0      8457.843750     8351.792969\n",
              "3        8000.0      8358.924805     8358.291016\n",
              "4        8220.0      8310.946289     8359.679688\n",
              "..          ...              ...             ...\n",
              "940      4580.0      4958.629883     4753.942383\n",
              "941      4580.0      4876.233398     4668.181641\n",
              "942      4590.0      4805.312012     4656.586914\n",
              "943      4540.0      4769.444336     4658.923828\n",
              "944      4550.0      4752.182129     4629.797363\n",
              "\n",
              "[945 rows x 3 columns]"
            ],
            "text/html": [
              "\n",
              "  <div id=\"df-dd2fd712-3c6b-4596-8ff3-5e3f38e2b5f2\">\n",
              "    <div class=\"colab-df-container\">\n",
              "      <div>\n",
              "<style scoped>\n",
              "    .dataframe tbody tr th:only-of-type {\n",
              "        vertical-align: middle;\n",
              "    }\n",
              "\n",
              "    .dataframe tbody tr th {\n",
              "        vertical-align: top;\n",
              "    }\n",
              "\n",
              "    .dataframe thead th {\n",
              "        text-align: right;\n",
              "    }\n",
              "</style>\n",
              "<table border=\"1\" class=\"dataframe\">\n",
              "  <thead>\n",
              "    <tr style=\"text-align: right;\">\n",
              "      <th></th>\n",
              "      <th>Real Price</th>\n",
              "      <th>Prediction LSTM</th>\n",
              "      <th>Prediction RNN</th>\n",
              "    </tr>\n",
              "  </thead>\n",
              "  <tbody>\n",
              "    <tr>\n",
              "      <th>0</th>\n",
              "      <td>8065.0</td>\n",
              "      <td>8734.052734</td>\n",
              "      <td>8775.239258</td>\n",
              "    </tr>\n",
              "    <tr>\n",
              "      <th>1</th>\n",
              "      <td>7875.0</td>\n",
              "      <td>8613.247070</td>\n",
              "      <td>8560.471680</td>\n",
              "    </tr>\n",
              "    <tr>\n",
              "      <th>2</th>\n",
              "      <td>7990.0</td>\n",
              "      <td>8457.843750</td>\n",
              "      <td>8351.792969</td>\n",
              "    </tr>\n",
              "    <tr>\n",
              "      <th>3</th>\n",
              "      <td>8000.0</td>\n",
              "      <td>8358.924805</td>\n",
              "      <td>8358.291016</td>\n",
              "    </tr>\n",
              "    <tr>\n",
              "      <th>4</th>\n",
              "      <td>8220.0</td>\n",
              "      <td>8310.946289</td>\n",
              "      <td>8359.679688</td>\n",
              "    </tr>\n",
              "    <tr>\n",
              "      <th>...</th>\n",
              "      <td>...</td>\n",
              "      <td>...</td>\n",
              "      <td>...</td>\n",
              "    </tr>\n",
              "    <tr>\n",
              "      <th>940</th>\n",
              "      <td>4580.0</td>\n",
              "      <td>4958.629883</td>\n",
              "      <td>4753.942383</td>\n",
              "    </tr>\n",
              "    <tr>\n",
              "      <th>941</th>\n",
              "      <td>4580.0</td>\n",
              "      <td>4876.233398</td>\n",
              "      <td>4668.181641</td>\n",
              "    </tr>\n",
              "    <tr>\n",
              "      <th>942</th>\n",
              "      <td>4590.0</td>\n",
              "      <td>4805.312012</td>\n",
              "      <td>4656.586914</td>\n",
              "    </tr>\n",
              "    <tr>\n",
              "      <th>943</th>\n",
              "      <td>4540.0</td>\n",
              "      <td>4769.444336</td>\n",
              "      <td>4658.923828</td>\n",
              "    </tr>\n",
              "    <tr>\n",
              "      <th>944</th>\n",
              "      <td>4550.0</td>\n",
              "      <td>4752.182129</td>\n",
              "      <td>4629.797363</td>\n",
              "    </tr>\n",
              "  </tbody>\n",
              "</table>\n",
              "<p>945 rows × 3 columns</p>\n",
              "</div>\n",
              "      <button class=\"colab-df-convert\" onclick=\"convertToInteractive('df-dd2fd712-3c6b-4596-8ff3-5e3f38e2b5f2')\"\n",
              "              title=\"Convert this dataframe to an interactive table.\"\n",
              "              style=\"display:none;\">\n",
              "        \n",
              "  <svg xmlns=\"http://www.w3.org/2000/svg\" height=\"24px\"viewBox=\"0 0 24 24\"\n",
              "       width=\"24px\">\n",
              "    <path d=\"M0 0h24v24H0V0z\" fill=\"none\"/>\n",
              "    <path d=\"M18.56 5.44l.94 2.06.94-2.06 2.06-.94-2.06-.94-.94-2.06-.94 2.06-2.06.94zm-11 1L8.5 8.5l.94-2.06 2.06-.94-2.06-.94L8.5 2.5l-.94 2.06-2.06.94zm10 10l.94 2.06.94-2.06 2.06-.94-2.06-.94-.94-2.06-.94 2.06-2.06.94z\"/><path d=\"M17.41 7.96l-1.37-1.37c-.4-.4-.92-.59-1.43-.59-.52 0-1.04.2-1.43.59L10.3 9.45l-7.72 7.72c-.78.78-.78 2.05 0 2.83L4 21.41c.39.39.9.59 1.41.59.51 0 1.02-.2 1.41-.59l7.78-7.78 2.81-2.81c.8-.78.8-2.07 0-2.86zM5.41 20L4 18.59l7.72-7.72 1.47 1.35L5.41 20z\"/>\n",
              "  </svg>\n",
              "      </button>\n",
              "      \n",
              "  <style>\n",
              "    .colab-df-container {\n",
              "      display:flex;\n",
              "      flex-wrap:wrap;\n",
              "      gap: 12px;\n",
              "    }\n",
              "\n",
              "    .colab-df-convert {\n",
              "      background-color: #E8F0FE;\n",
              "      border: none;\n",
              "      border-radius: 50%;\n",
              "      cursor: pointer;\n",
              "      display: none;\n",
              "      fill: #1967D2;\n",
              "      height: 32px;\n",
              "      padding: 0 0 0 0;\n",
              "      width: 32px;\n",
              "    }\n",
              "\n",
              "    .colab-df-convert:hover {\n",
              "      background-color: #E2EBFA;\n",
              "      box-shadow: 0px 1px 2px rgba(60, 64, 67, 0.3), 0px 1px 3px 1px rgba(60, 64, 67, 0.15);\n",
              "      fill: #174EA6;\n",
              "    }\n",
              "\n",
              "    [theme=dark] .colab-df-convert {\n",
              "      background-color: #3B4455;\n",
              "      fill: #D2E3FC;\n",
              "    }\n",
              "\n",
              "    [theme=dark] .colab-df-convert:hover {\n",
              "      background-color: #434B5C;\n",
              "      box-shadow: 0px 1px 3px 1px rgba(0, 0, 0, 0.15);\n",
              "      filter: drop-shadow(0px 1px 2px rgba(0, 0, 0, 0.3));\n",
              "      fill: #FFFFFF;\n",
              "    }\n",
              "  </style>\n",
              "\n",
              "      <script>\n",
              "        const buttonEl =\n",
              "          document.querySelector('#df-dd2fd712-3c6b-4596-8ff3-5e3f38e2b5f2 button.colab-df-convert');\n",
              "        buttonEl.style.display =\n",
              "          google.colab.kernel.accessAllowed ? 'block' : 'none';\n",
              "\n",
              "        async function convertToInteractive(key) {\n",
              "          const element = document.querySelector('#df-dd2fd712-3c6b-4596-8ff3-5e3f38e2b5f2');\n",
              "          const dataTable =\n",
              "            await google.colab.kernel.invokeFunction('convertToInteractive',\n",
              "                                                     [key], {});\n",
              "          if (!dataTable) return;\n",
              "\n",
              "          const docLinkHtml = 'Like what you see? Visit the ' +\n",
              "            '<a target=\"_blank\" href=https://colab.research.google.com/notebooks/data_table.ipynb>data table notebook</a>'\n",
              "            + ' to learn more about interactive tables.';\n",
              "          element.innerHTML = '';\n",
              "          dataTable['output_type'] = 'display_data';\n",
              "          await google.colab.output.renderOutput(dataTable, element);\n",
              "          const docLink = document.createElement('div');\n",
              "          docLink.innerHTML = docLinkHtml;\n",
              "          element.appendChild(docLink);\n",
              "        }\n",
              "      </script>\n",
              "    </div>\n",
              "  </div>\n",
              "  "
            ]
          },
          "metadata": {},
          "execution_count": 31
        }
      ],
      "source": [
        "predictionLSTM = np.array(predicted_LSTM)\n",
        "predictionRNN = np.array(predicted_RNN)\n",
        "df_hasil = pd.DataFrame()\n",
        "df_hasil['Real Price'] = df_test['Close'].reset_index(drop = True)\n",
        "df_hasil['Prediction LSTM'] = predictionLSTM\n",
        "df_hasil['Prediction RNN'] = predictionRNN\n",
        "df_hasil"
      ]
    },
    {
      "cell_type": "code",
      "execution_count": 32,
      "metadata": {
        "id": "D2CK9JsLmJ6r"
      },
      "outputs": [],
      "source": [
        "#Menyimpan tabel hasil dari prediksi \n",
        "\n",
        "# df_hasil.to_excel(\"datatest_stock(60neuron).xlsx\")"
      ]
    },
    {
      "cell_type": "code",
      "execution_count": 33,
      "metadata": {
        "colab": {
          "base_uri": "https://localhost:8080/"
        },
        "id": "lFecLMCZbPOZ",
        "outputId": "ec1367b1-d23e-4e9a-9a5e-1b5bc279ac88"
      },
      "outputs": [
        {
          "output_type": "stream",
          "name": "stdout",
          "text": [
            "Mean Absolute Error Model LSTM : 231.1011\n",
            "Mean Absolute Error Model RNN : 233.8674\n"
          ]
        }
      ],
      "source": [
        "# Besar nilai kesalahan \n",
        "mae_lstm = np.mean(np.abs((df_hasil['Real Price'] - \n",
        "                       df_hasil['Prediction LSTM'])))\n",
        "\n",
        "mae_rnn = np.mean(np.abs((df_hasil['Real Price'] - \n",
        "                       df_hasil['Prediction RNN'])))\n",
        "\n",
        "print('Mean Absolute Error Model LSTM : ' \"{:.4f}\".format(mae_lstm))\n",
        "print('Mean Absolute Error Model RNN : ' \"{:.4f}\".format(mae_rnn))"
      ]
    },
    {
      "cell_type": "code",
      "execution_count": 34,
      "metadata": {
        "colab": {
          "base_uri": "https://localhost:8080/"
        },
        "id": "O-ddR0m6f2cz",
        "outputId": "365a0b29-59cd-488f-b1af-74f24bfa18f7"
      },
      "outputs": [
        {
          "output_type": "stream",
          "name": "stdout",
          "text": [
            "Mean Absolute Percentage Error Model LSTM : 3.646%\n",
            "Mean Absolute Percentage Error Model RNN : 3.303%\n"
          ]
        }
      ],
      "source": [
        "# Besar nilai kesalahan \n",
        "mape_lstm = np.mean(np.abs((df_hasil['Real Price'] - \n",
        "                       df_hasil['Prediction LSTM'])/df_hasil['Real Price'])) * 100\n",
        "\n",
        "mape_rnn = np.mean(np.abs((df_hasil['Real Price'] - \n",
        "                       df_hasil['Prediction RNN'])/df_hasil['Real Price'])) * 100\n",
        "\n",
        "print('Mean Absolute Percentage Error Model LSTM : ' \"{:.3f}\".format(mape_lstm)+'%')\n",
        "print('Mean Absolute Percentage Error Model RNN : ' \"{:.3f}\".format(mape_rnn)+'%')"
      ]
    },
    {
      "cell_type": "code",
      "execution_count": 35,
      "metadata": {
        "colab": {
          "base_uri": "https://localhost:8080/"
        },
        "id": "CpvtedX1ldn9",
        "outputId": "5cc85436-a6b4-4457-d29e-671dad7eef49"
      },
      "outputs": [
        {
          "output_type": "stream",
          "name": "stdout",
          "text": [
            "Skor Akurasi (R Squared) Model LSTM : 98.19 %\n",
            "Skor Akurasi (R Squared) Model RNN : 98.02 %\n"
          ]
        }
      ],
      "source": [
        "# Besar nilai akurasi dengan R Squared\n",
        "r2_lstm = r2_score(df_hasil['Real Price'], df_hasil['Prediction LSTM'])\n",
        "r2_lstm = r2_lstm * 100\n",
        "\n",
        "r2_rnn = r2_score(df_hasil['Real Price'], df_hasil['Prediction RNN'])\n",
        "r2_rnn = r2_rnn * 100\n",
        "\n",
        "print ('Skor Akurasi (R Squared) Model LSTM : ' \"{:.2f}\".format(r2_lstm)+' %')\n",
        "print ('Skor Akurasi (R Squared) Model RNN : ' \"{:.2f}\".format(r2_rnn)+' %')"
      ]
    },
    {
      "cell_type": "code",
      "execution_count": 36,
      "metadata": {
        "colab": {
          "base_uri": "https://localhost:8080/",
          "height": 531
        },
        "id": "v4CYh9jylg7U",
        "outputId": "b7cbcd3c-3dc2-4cc4-f39d-94458c7691bc"
      },
      "outputs": [
        {
          "output_type": "display_data",
          "data": {
            "text/plain": [
              "<Figure size 1152x576 with 1 Axes>"
            ],
            "image/png": "[encoded data removed]"
          },
          "metadata": {
            "needs_background": "light"
          }
        }
      ],
      "source": [
        "# Visualisasi prediksi\n",
        "plt.figure(figsize=(16,8))\n",
        "plt.title('Harga Saham Aktual VS Prediksi', fontsize=26)\n",
        "plt.xlabel('Data Test', fontsize=18)\n",
        "plt.ylabel('Close Price', fontsize=18)\n",
        "\n",
        "plt.plot(df_hasil['Real Price'])\n",
        "plt.plot(df_hasil['Prediction LSTM'])\n",
        "plt.plot(df_hasil['Prediction RNN'])\n",
        "plt.legend(['Real Price', 'Prediction LSTM', 'Prediction RNN'], loc='lower right')\n",
        "plt.show()"
      ]
    },
    {
      "cell_type": "code",
      "execution_count": 37,
      "metadata": {
        "colab": {
          "base_uri": "https://localhost:8080/"
        },
        "id": "TnAwCUZ7llRg",
        "outputId": "8bf19c2e-a5e7-4c9e-efd8-9f1ff4a5f59e"
      },
      "outputs": [
        {
          "output_type": "stream",
          "name": "stdout",
          "text": [
            "Prediksi harga penutupan saham untuk 23 November 2021 Model LSTM : [[4750.539]]\n",
            "Prediksi harga penutupan saham untuk 23 November 2021 Model RNN : [[4582.924]]\n"
          ]
        }
      ],
      "source": [
        "# Prediksi 1 hari berikutnya pada 12 Juli 2021\n",
        "real_data = [inputs[len(inputs) - timestep:len(inputs+1), 0]]\n",
        "real_data = np.array(real_data)\n",
        "real_data = np.reshape(real_data, (real_data.shape[0], \n",
        "                                   real_data.shape[1],1))\n",
        "\n",
        "prediction_LSTM = model_LSTM.predict(real_data)\n",
        "prediction_LSTM = sc.inverse_transform(prediction_LSTM)\n",
        "\n",
        "prediction_RNN = model_RNN.predict(real_data)\n",
        "prediction_RNN = sc.inverse_transform(prediction_RNN)\n",
        "print(f\"Prediksi harga penutupan saham untuk 23 November 2021 Model LSTM : {prediction_LSTM}\")\n",
        "print(f\"Prediksi harga penutupan saham untuk 23 November 2021 Model RNN : {prediction_RNN}\")"
      ]
    }
  ],
  "metadata": {
    "colab": {
      "collapsed_sections": [],
      "provenance": []
    },
    "kernelspec": {
      "display_name": "Python 3",
      "name": "python3"
    },
    "language_info": {
      "name": "python"
    }
  },
  "nbformat": 4,
  "nbformat_minor": 0
}